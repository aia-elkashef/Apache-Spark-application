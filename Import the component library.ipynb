{
 "cells": [
  {
   "cell_type": "code",
   "execution_count": 1,
   "id": "22dbc3e2-c42f-4092-a413-acd70948592f",
   "metadata": {},
   "outputs": [
    {
     "name": "stderr",
     "output_type": "stream",
     "text": [
      "Cloning into 'claimed'...\n",
      "Checking out files: 100% (461/461), done.\n"
     ]
    }
   ],
   "source": [
    "%%bash\n",
    "rm -Rf claimed\n",
    "git clone https://github.com/IBM/claimed.git\n",
    "cd claimed"
   ]
  },
  {
   "cell_type": "code",
   "execution_count": null,
   "id": "ace579cc-8c46-41c9-be4e-b825e0512305",
   "metadata": {},
   "outputs": [],
   "source": []
  }
 ],
 "metadata": {
  "kernelspec": {
   "display_name": "Python",
   "language": "python",
   "name": "conda-env-python-py"
  },
  "language_info": {
   "codemirror_mode": {
    "name": "ipython",
    "version": 3
   },
   "file_extension": ".py",
   "mimetype": "text/x-python",
   "name": "python",
   "nbconvert_exporter": "python",
   "pygments_lexer": "ipython3",
   "version": "3.7.12"
  }
 },
 "nbformat": 4,
 "nbformat_minor": 5
}
